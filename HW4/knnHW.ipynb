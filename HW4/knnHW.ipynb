{
  "nbformat": 4,
  "nbformat_minor": 0,
  "metadata": {
    "colab": {
      "provenance": [],
      "include_colab_link": true
    },
    "kernelspec": {
      "name": "python3",
      "display_name": "Python 3"
    },
    "language_info": {
      "name": "python"
    }
  },
  "cells": [
    {
      "cell_type": "markdown",
      "metadata": {
        "id": "view-in-github",
        "colab_type": "text"
      },
      "source": [
        "<a href=\"https://colab.research.google.com/github/EliMLevy/Artificial-Intelligence-COM3760/blob/main/HW4/knnHW.ipynb\" target=\"_parent\"><img src=\"https://colab.research.google.com/assets/colab-badge.svg\" alt=\"Open In Colab\"/></a>"
      ]
    },
    {
      "cell_type": "markdown",
      "metadata": {
        "id": "PELNEMlpx2Ri"
      },
      "source": [
        "Import the libraries math (for square root and absolute value) and pandas and numpy for reading csv files."
      ]
    },
    {
      "cell_type": "code",
      "metadata": {
        "id": "mkYTODtExydl"
      },
      "source": [
        "import math\n",
        "import pandas as pd\n",
        "import numpy as np"
      ],
      "execution_count": 40,
      "outputs": []
    },
    {
      "cell_type": "markdown",
      "metadata": {
        "id": "zCgb1pGFx8od"
      },
      "source": [
        "Make an untagged vector, point, and two tagged vectors, data1 and data2:"
      ]
    },
    {
      "cell_type": "code",
      "metadata": {
        "id": "Ifbww56byViT"
      },
      "source": [
        "point = [1, 0, 0, '?'] #(an unknown tag)\n",
        "data1 = [1, 1, 1, 'M']\n",
        "data2 = [1, 3, 0, 'F']\n"
      ],
      "execution_count": 2,
      "outputs": []
    },
    {
      "cell_type": "markdown",
      "metadata": {
        "id": "2hiHzqnsyhW2"
      },
      "source": [
        "Write code to separate the data (X) from the tag (Y).  Your output should be:\n",
        "\n",
        "The vector [1, 1, 1] has tag M\n",
        "\n",
        "The vector [1, 3, 0] has tag F\n"
      ]
    },
    {
      "cell_type": "code",
      "metadata": {
        "id": "CdgKt99HyaKT",
        "colab": {
          "base_uri": "https://localhost:8080/"
        },
        "outputId": "6c9fc1b2-3f82-4f2d-be4e-09116a5116ce"
      },
      "source": [
        "\n",
        "def separate_data_from_tag(data):\n",
        "  return data[0:-1], data[-1]\n",
        "\n",
        "data, tag = separate_data_from_tag(data1)\n",
        "print(\"The vector \" , data, \" has tag \", tag)\n",
        "data, tag = separate_data_from_tag(data2)\n",
        "print(\"The vector \" , data, \" has tag \", tag)"
      ],
      "execution_count": 5,
      "outputs": [
        {
          "output_type": "stream",
          "name": "stdout",
          "text": [
            "The vector  [1, 1, 1]  has tag  M\n",
            "The vector  [1, 3, 0]  has tag  F\n"
          ]
        }
      ]
    },
    {
      "cell_type": "markdown",
      "metadata": {
        "id": "Nknnav39yb8C"
      },
      "source": [
        "Now let's classify the point as either M or F.  We'll do this by setting k = 1 and using the Euclidean distance.  We'll define that as:"
      ]
    },
    {
      "cell_type": "code",
      "metadata": {
        "id": "gT0HxYoxzG_-"
      },
      "source": [
        "def euclideanDistance(instance1, instance2, length):\n",
        "   distance = 0\n",
        "   for x in range(length):\n",
        "         #print ('x is ' , x)\n",
        "         num1=float(instance1[x])\n",
        "         num2=float(instance2[x])\n",
        "         distance = distance + pow(num1-num2, 2)\n",
        "   return math.sqrt(distance)\n"
      ],
      "execution_count": 7,
      "outputs": []
    },
    {
      "cell_type": "markdown",
      "metadata": {
        "id": "RhO3w2O4zKG8"
      },
      "source": [
        "Now, find out the distance between data1 and point and data2 and point. Output what the tag should be using euclideanDistance."
      ]
    },
    {
      "cell_type": "code",
      "metadata": {
        "id": "rzHsm2KezPie",
        "colab": {
          "base_uri": "https://localhost:8080/"
        },
        "outputId": "7737cf19-06f0-47d7-f7aa-d355aa73d678"
      },
      "source": [
        "\n",
        "data1_dist = euclideanDistance(data1,point,3)\n",
        "data2_dist = euclideanDistance(data2,point,3)\n",
        "\n",
        "print(\"data1 dist: \", data1_dist)\n",
        "print(\"data2 dist: \", data2_dist)\n",
        "\n",
        "if data1_dist < data2_dist:\n",
        "  _, tag = separate_data_from_tag(data1)\n",
        "else:\n",
        "  _, tag = separate_data_from_tag(data2)\n",
        "\n",
        "print(\"The tag should be \", tag)"
      ],
      "execution_count": 12,
      "outputs": [
        {
          "output_type": "stream",
          "name": "stdout",
          "text": [
            "data1 dist:  1.4142135623730951\n",
            "data2 dist:  3.0\n",
            "The tag should be  M\n"
          ]
        }
      ]
    },
    {
      "cell_type": "markdown",
      "metadata": {
        "id": "bImk9yPazRCS"
      },
      "source": [
        "Now, let's get more data from a file, myFile.csv. This code will read it for us:"
      ]
    },
    {
      "cell_type": "code",
      "metadata": {
        "id": "xeInyfvYzbKj",
        "colab": {
          "base_uri": "https://localhost:8080/"
        },
        "outputId": "272d2fe1-1d00-4dfc-b5f7-df235bcc21b1"
      },
      "source": [
        "url = 'https://github.com/rosenfa/ai/blob/master/myFile.csv?raw=true'\n",
        "df=pd.read_csv(url,  header=0, error_bad_lines=False)\n",
        "#put data in dataset without header line\n",
        "dataset = np.array(df)"
      ],
      "execution_count": 13,
      "outputs": [
        {
          "output_type": "stream",
          "name": "stderr",
          "text": [
            "<ipython-input-13-433b83a05c7f>:2: FutureWarning: The error_bad_lines argument has been deprecated and will be removed in a future version. Use on_bad_lines in the future.\n",
            "\n",
            "\n",
            "  df=pd.read_csv(url,  header=0, error_bad_lines=False)\n"
          ]
        }
      ]
    },
    {
      "cell_type": "markdown",
      "metadata": {
        "id": "X_1JLdAEzdhu"
      },
      "source": [
        "Show that you understand what you read by:\n",
        "\n",
        "1. Printing the first two vectors in the file\n",
        "2. Printing the Euclidean distance between those two vectors\n",
        "\n",
        "Here is some code which I think might help get you on your way!"
      ]
    },
    {
      "cell_type": "code",
      "metadata": {
        "id": "e4QT_37TzuWr",
        "colab": {
          "base_uri": "https://localhost:8080/"
        },
        "outputId": "0ede427a-aeef-4672-bcd7-aa6ba490b3fe"
      },
      "source": [
        "print(len(dataset))\n",
        "# print(dataset)\n",
        "# print(euclideanDistance(dataset[0],dataset[1],3))\n",
        "\n",
        "print(dataset[:2])\n",
        "print(euclideanDistance(dataset[0], dataset[1], 3))"
      ],
      "execution_count": 63,
      "outputs": [
        {
          "output_type": "stream",
          "name": "stdout",
          "text": [
            "10\n",
            "[[0 1 2 'F']\n",
            " [1 5 6 'F']]\n",
            "5.744562646538029\n"
          ]
        }
      ]
    },
    {
      "cell_type": "markdown",
      "metadata": {
        "id": "Mw03nhZuEyUw"
      },
      "source": [
        "Now assume you have a new value for point:\n",
        "\n",
        "[0,1,100]\n",
        "\n",
        "How would you classify this vector using the Euclidean distance function given all of the vectors in the file?\n",
        "\n",
        "In order to help here is a hint:  \n",
        "\n",
        "We suggest defining some type of data struction to store different vectors' distances and their tags like this:"
      ]
    },
    {
      "cell_type": "code",
      "metadata": {
        "id": "oh8ym0_SE7Rb"
      },
      "source": [
        "point=[0,1,100]\n",
        "class distClass:\n",
        "    dist = -1 #distance of current point from test point\n",
        "    tag = '-' #tag of current point\n"
      ],
      "execution_count": 22,
      "outputs": []
    },
    {
      "cell_type": "markdown",
      "metadata": {
        "id": "-KZR5lxOFP2v"
      },
      "source": [
        "You can then add vector distances like this:"
      ]
    },
    {
      "cell_type": "code",
      "metadata": {
        "colab": {
          "base_uri": "https://localhost:8080/"
        },
        "id": "hdFwOHcCFScU",
        "outputId": "46015868-2ed2-4a7a-ff08-b3dd11de2c26"
      },
      "source": [
        "eucDistances = [] # list of distances, will hold objects of type distClass\n",
        "\n",
        "temp=dataset[1]\n",
        "label=temp[-1]\n",
        "d=euclideanDistance(point,temp,3)\n",
        "print(\"The distances between \" , point , \" and \" , temp,  \" is \" , str(d))\n",
        "print(\" and the label is \" + label)\n",
        "obj = distClass() #one record's distance and tag\n",
        "obj.dist=d\n",
        "obj.tag=label\n",
        "eucDistances.append(obj)\n"
      ],
      "execution_count": 23,
      "outputs": [
        {
          "output_type": "stream",
          "name": "stdout",
          "text": [
            "The distances between  [0, 1, 100]  and  [1 5 6 'F']  is  94.09038208021052\n",
            " and the label is F\n"
          ]
        }
      ]
    },
    {
      "cell_type": "code",
      "source": [
        "# Calculates the distance between the point and the specified row using the given distance function\n",
        "def process_row(point, row, container, length, dist_func):\n",
        "  label=row[-1]\n",
        "  d=dist_func(point,row,length)\n",
        "  # print(\"The distances between \" , point , \" and \" , temp,  \" is \" , str(d))\n",
        "  # print(\" and the label is \" + label)\n",
        "  obj = distClass() #one record's distance and tag\n",
        "  obj.dist=d\n",
        "  obj.tag=label\n",
        "  container.append(obj)"
      ],
      "metadata": {
        "id": "dEV2uAzwXQLV"
      },
      "execution_count": 64,
      "outputs": []
    },
    {
      "cell_type": "code",
      "metadata": {
        "colab": {
          "base_uri": "https://localhost:8080/"
        },
        "id": "OTJBcLSJa8SR",
        "outputId": "b4342f4a-84c5-4615-84cc-e64305ce1248"
      },
      "source": [
        "eucDistances[0].dist"
      ],
      "execution_count": null,
      "outputs": [
        {
          "output_type": "execute_result",
          "data": {
            "text/plain": [
              "94.13819628609845"
            ]
          },
          "metadata": {},
          "execution_count": 10
        }
      ]
    },
    {
      "cell_type": "markdown",
      "metadata": {
        "id": "67seTigUFbW7"
      },
      "source": [
        "and sort them like this:"
      ]
    },
    {
      "cell_type": "code",
      "metadata": {
        "id": "J0rEdJXKFctw"
      },
      "source": [
        "eucDistances.sort(key=lambda x: x.dist)"
      ],
      "execution_count": 25,
      "outputs": []
    },
    {
      "cell_type": "markdown",
      "metadata": {
        "id": "eWzp7vM9FgLm"
      },
      "source": [
        "Questions:\n",
        "\n",
        "1. What is the label for point if k=1?\n",
        "2. What is the label for point if k=3?\n",
        "3. Would the result be different if we used a different distance function like Hamming or Manhattan?"
      ]
    },
    {
      "cell_type": "code",
      "source": [
        "from collections import defaultdict\n",
        "\n",
        "'''\n",
        "Given a list of distClass find the label of the majority of the k nearest neighbors\n",
        "'''\n",
        "def categorize(lst, k):\n",
        "  lst.sort(key=lambda x: x.dist)\n",
        "  results = defaultdict(int)\n",
        "  best_result = lst[0].tag\n",
        "  for i in range(k):\n",
        "    # print(\"looking at \", i, \" with tag: \", lst[i].tag)\n",
        "    results[lst[i].tag] += 1\n",
        "    if results[lst[i].tag] > results[best_result]:\n",
        "      best_result = lst[i].tag\n",
        "  # print(results)\n",
        "  return best_result\n",
        ""
      ],
      "metadata": {
        "id": "ZyshciZhXxvT"
      },
      "execution_count": 69,
      "outputs": []
    },
    {
      "cell_type": "code",
      "source": [
        "'''\n",
        "Finds the knn of the specified point with the euclidean distance method\n",
        "'''\n",
        "distances = []\n",
        "for row in dataset:\n",
        "  process_row(point, row, distances, 3, euclideanDistance)\n",
        "\n",
        "\n",
        "k1_category = categorize(distances, 1)\n",
        "k3_category = categorize(distances, 3)\n",
        "k7_category = categorize(distances, 7)\n",
        "print(\"With k=1, category is \", k1_category)\n",
        "print(\"With k=3, category is \", k3_category)\n",
        "print(\"With k=7, category is \", k7_category)"
      ],
      "metadata": {
        "colab": {
          "base_uri": "https://localhost:8080/"
        },
        "id": "USb41h0RXkq0",
        "outputId": "26179328-c51b-4128-e21c-b96c54156c6f"
      },
      "execution_count": 67,
      "outputs": [
        {
          "output_type": "stream",
          "name": "stdout",
          "text": [
            "defaultdict(<class 'int'>, {'F': 1})\n",
            "defaultdict(<class 'int'>, {'F': 2, 'M': 1})\n",
            "defaultdict(<class 'int'>, {'F': 4, 'M': 3})\n",
            "With k=1, category is  F\n",
            "With k=3, category is  F\n",
            "With k=7, category is  F\n"
          ]
        }
      ]
    },
    {
      "cell_type": "code",
      "metadata": {
        "id": "tbHJ5OS5GeCw"
      },
      "source": [
        "#Add code with functions that implement Hamming and Manhattan distances and test\n",
        "#what the label will be for k=1 and k=3 for all possibilities\n",
        "#(6 total: 2 Euclidean, 2 Hamming and 2 Manhattan)\n",
        "\n",
        "def hammingDistance(instance1, instance2, length):\n",
        "  # Add one to count if they are not the same\n",
        "  count = 0\n",
        "  for i in range(length):\n",
        "    if instance1[i] != instance2[i]:\n",
        "      count += 1\n",
        "\n",
        "  return count\n",
        "\n",
        "def manhattanDistance(instance1, instance2, length):\n",
        "  dist = 0\n",
        "  for i in range(length):\n",
        "    dist += abs(instance1[i] - instance2[i])\n",
        "\n",
        "  return dist\n",
        "\n"
      ],
      "execution_count": 41,
      "outputs": []
    },
    {
      "cell_type": "code",
      "source": [
        "'''\n",
        "Finds the knn of the specified point with the hamming distance method\n",
        "'''\n",
        "distances = []\n",
        "for row in dataset:\n",
        "  process_row(point, row, distances, 3, hammingDistance)\n",
        "\n",
        "\n",
        "k1_category = categorize(distances, 1)\n",
        "k3_category = categorize(distances, 3)\n",
        "print(\"Hamming: With k=1, category is \", k1_category)\n",
        "print(\"Hamming: With k=3, category is \", k3_category)"
      ],
      "metadata": {
        "colab": {
          "base_uri": "https://localhost:8080/"
        },
        "id": "wcv9_Cq9aPSE",
        "outputId": "533a4ee2-24ed-45c9-c0c4-593e0c0996a4"
      },
      "execution_count": 43,
      "outputs": [
        {
          "output_type": "stream",
          "name": "stdout",
          "text": [
            "Hamming: With k=1, category is  F\n",
            "Hamming: With k=3, category is  F\n"
          ]
        }
      ]
    },
    {
      "cell_type": "code",
      "source": [
        "'''\n",
        "Finds the knn of the specified point with the manhattan distance method\n",
        "'''\n",
        "distances = []\n",
        "for row in dataset:\n",
        "  process_row(point, row, distances, 3, manhattanDistance)\n",
        "\n",
        "\n",
        "k1_category = categorize(distances, 1)\n",
        "k3_category = categorize(distances, 3)\n",
        "print(\"Manhattan: With k=1, category is \", k1_category)\n",
        "print(\"Manhattan: With k=3, category is \", k3_category)"
      ],
      "metadata": {
        "colab": {
          "base_uri": "https://localhost:8080/"
        },
        "id": "Q1rs6GFGag2U",
        "outputId": "b7d8923b-eac1-4b70-e3cd-f074d337dcd9"
      },
      "execution_count": 44,
      "outputs": [
        {
          "output_type": "stream",
          "name": "stdout",
          "text": [
            "Manhattan: With k=1, category is  M\n",
            "Manhattan: With k=3, category is  F\n"
          ]
        }
      ]
    },
    {
      "cell_type": "markdown",
      "metadata": {
        "id": "o-XsqlSRVyEX"
      },
      "source": [
        "Up until here is a simplified version of the homework.\n",
        "Below here is the work for the part we will be checking as the basis of your grade:"
      ]
    },
    {
      "cell_type": "markdown",
      "metadata": {
        "id": "7KPzkCfLGxDK"
      },
      "source": [
        "Now let's look at some bigger files:\n",
        "\n",
        "1. mytrain.csv (for training the model)\n",
        "2. mytest.csv (for testing)\n"
      ]
    },
    {
      "cell_type": "code",
      "metadata": {
        "id": "menQ9SEoG_Ag",
        "outputId": "9cabb6de-9880-4903-cb4a-e3bb31836091",
        "colab": {
          "base_uri": "https://localhost:8080/"
        }
      },
      "source": [
        "url = 'https://github.com/rosenfa/ai/blob/master/mytrain.csv?raw=true'\n",
        "train_data = np.array(pd.read_csv(url,  header=0, error_bad_lines=False))\n",
        "url = 'https://github.com/rosenfa/ai/blob/master/mytest.csv?raw=true'\n",
        "test_data = np.array(pd.read_csv(url,  header=0, error_bad_lines=False))"
      ],
      "execution_count": 45,
      "outputs": [
        {
          "output_type": "stream",
          "name": "stderr",
          "text": [
            "<ipython-input-45-d4827212fd82>:2: FutureWarning: The error_bad_lines argument has been deprecated and will be removed in a future version. Use on_bad_lines in the future.\n",
            "\n",
            "\n",
            "  train_data = np.array(pd.read_csv(url,  header=0, error_bad_lines=False))\n",
            "<ipython-input-45-d4827212fd82>:4: FutureWarning: The error_bad_lines argument has been deprecated and will be removed in a future version. Use on_bad_lines in the future.\n",
            "\n",
            "\n",
            "  test_data = np.array(pd.read_csv(url,  header=0, error_bad_lines=False))\n"
          ]
        }
      ]
    },
    {
      "cell_type": "code",
      "metadata": {
        "id": "ej1wLymKHPnT",
        "colab": {
          "base_uri": "https://localhost:8080/"
        },
        "outputId": "d755dfff-93e8-4eb2-9aed-e505982b1abf"
      },
      "source": [
        "print(train_data.shape)# number of records and features\n",
        "print(train_data)"
      ],
      "execution_count": 46,
      "outputs": [
        {
          "output_type": "stream",
          "name": "stdout",
          "text": [
            "(100, 30)\n",
            "[[0.317251 0.540016 0.150514 ... 0.0 0.212007 'F']\n",
            " [3.882181 0.0 0.0 ... 0.0 0.0 'F']\n",
            " [1.790708 0.0 0.0 ... 0.0 0.0 'F']\n",
            " ...\n",
            " [0.0 0.0 0.0 ... 0.0 0.0 'M']\n",
            " [0.0 0.0 0.0 ... 0.0 0.0 'M']\n",
            " [0.0 0.0 0.0 ... 0.0 0.0 'F']]\n"
          ]
        }
      ]
    },
    {
      "cell_type": "code",
      "metadata": {
        "id": "v9YKMlcPHVWU",
        "colab": {
          "base_uri": "https://localhost:8080/"
        },
        "outputId": "e2895ee0-60f7-4cd0-ff48-4dadb1ebdcdb"
      },
      "source": [
        "print(test_data.shape)# number of records and features\n",
        "print(test_data)"
      ],
      "execution_count": 47,
      "outputs": [
        {
          "output_type": "stream",
          "name": "stdout",
          "text": [
            "(100, 30)\n",
            "[[2.85985 0.66275 0.0 ... 0.995289 0.0 'F']\n",
            " [0.0 12.998726 0.0 ... 0.0 0.0 'F']\n",
            " [13.231318 0.0 0.0 ... 0.0 0.0 'F']\n",
            " ...\n",
            " [0.0 0.0 0.0 ... 0.0 0.0 'M']\n",
            " [1.688611 0.0 3.204529 ... 0.0 0.0 'M']\n",
            " [0.0 0.0 0.0 ... 0.0 0.0 'M']]\n"
          ]
        }
      ]
    },
    {
      "cell_type": "markdown",
      "metadata": {
        "id": "hsjBpdObIB7d"
      },
      "source": [
        "I hope by now you understand where we are going with this :)\n",
        "\n",
        "Now implement the knn code with 3 different values for k:\n",
        "1. k = 1\n",
        "2. k = 7\n",
        "3. k = 15\n",
        "\n",
        "and at first use the Euclidean distance.\n",
        "Classify each of the vectors in the test_data dataset using the training data from train_data.  Which value for k gave the best accuracy?  What accuracy did it give you?\n",
        "\n",
        "Now see if using Hamming or Manhattan distance give any better results for the same values of k.  \n",
        "\n",
        "Once you are done, you should have a total of 9 different results:\n",
        "\n",
        "1. Three accuracy results for the different value of k using the Euclidean Distance\n",
        "2. Three accuracy results for the different value of k using the Hamming Distance\n",
        "3. Three accuracy results for the different value of k using the Manhattan Distance\n",
        "\n",
        "Hint: I strongly suggest you base yourself on the code you've seen until this point so you don't have to reinvent the wheel!"
      ]
    },
    {
      "cell_type": "markdown",
      "source": [
        "Accuracy = (TP + TN) / (TP + TN + FT + FN)\n",
        "\n",
        "Accuracy = (Total correct) / (Total Guesses)"
      ],
      "metadata": {
        "id": "bGV-E5rmbHbL"
      }
    },
    {
      "cell_type": "code",
      "source": [
        "features = test_data.shape[1] - 1\n",
        "print(features)"
      ],
      "metadata": {
        "colab": {
          "base_uri": "https://localhost:8080/"
        },
        "id": "tSsEkjSvb6WV",
        "outputId": "3014a39e-1ca0-4370-b50f-a18d365ce274"
      },
      "execution_count": 48,
      "outputs": [
        {
          "output_type": "stream",
          "name": "stdout",
          "text": [
            "29\n"
          ]
        }
      ]
    },
    {
      "cell_type": "code",
      "metadata": {
        "id": "dIyZbN4kJBrO",
        "colab": {
          "base_uri": "https://localhost:8080/"
        },
        "outputId": "cd66e7ab-5bc0-4ee6-e257-6edd0f825e5a"
      },
      "source": [
        "#Add code here\n",
        "\n",
        "def evaluate(dist_func):\n",
        "  k1_correct = 0\n",
        "  k7_correct = 0\n",
        "  k15_correct = 0\n",
        "  for point in test_data:\n",
        "    distances = []\n",
        "    for row in train_data:\n",
        "      process_row(point, row, distances, features, dist_func)\n",
        "\n",
        "    k1_category = categorize(distances, 1)\n",
        "    k7_category = categorize(distances, 7)\n",
        "    k15_category = categorize(distances, 15)\n",
        "    if k1_category == point[-1]:\n",
        "      k1_correct += 1\n",
        "    if k7_category == point[-1]:\n",
        "      k7_correct += 1\n",
        "    if k15_category == point[-1]:\n",
        "      k15_correct += 1\n",
        "\n",
        "  return k1_correct, k7_correct, k15_correct\n",
        "\n",
        "\n",
        "k1_correct, k7_correct, k15_correct = evaluate(euclideanDistance)\n",
        "print(\"Euclidean\")\n",
        "print(\"k1 correct: \", k1_correct, \". Accuracy: \", k1_correct / len(test_data))\n",
        "print(\"k7 correct: \", k7_correct, \". Accuracy: \", k7_correct / len(test_data))\n",
        "print(\"k15 correct: \", k15_correct, \". Accuracy: \", k15_correct / len(test_data))\n",
        "print()\n",
        "\n",
        "k1_correct, k7_correct, k15_correct = evaluate(hammingDistance)\n",
        "print(\"Hamming\")\n",
        "print(\"k1 correct: \", k1_correct, \". Accuracy: \", k1_correct / len(test_data))\n",
        "print(\"k7 correct: \", k7_correct, \". Accuracy: \", k7_correct / len(test_data))\n",
        "print(\"k15 correct: \", k15_correct, \". Accuracy: \", k15_correct / len(test_data))\n",
        "print()\n",
        "\n",
        "k1_correct, k7_correct, k15_correct = evaluate(manhattanDistance)\n",
        "print(\"Manhattan\")\n",
        "print(\"1 correct: \", k1_correct, \". Accuracy: \", k1_correct / len(test_data))\n",
        "print(\"7 correct: \", k7_correct, \". Accuracy: \", k7_correct / len(test_data))\n",
        "print(\"15 correct: \", k15_correct, \". Accuracy: \", k15_correct / len(test_data))\n"
      ],
      "execution_count": 78,
      "outputs": [
        {
          "output_type": "stream",
          "name": "stdout",
          "text": [
            "Euclidean\n",
            "k1 correct:  50 . Accuracy:  0.5\n",
            "k7 correct:  74 . Accuracy:  0.74\n",
            "k15 correct:  70 . Accuracy:  0.7\n",
            "\n",
            "Hamming\n",
            "k1 correct:  61 . Accuracy:  0.61\n",
            "k7 correct:  55 . Accuracy:  0.55\n",
            "k15 correct:  57 . Accuracy:  0.57\n",
            "\n",
            "Manhattan\n",
            "1 correct:  61 . Accuracy:  0.61\n",
            "7 correct:  63 . Accuracy:  0.63\n",
            "15 correct:  69 . Accuracy:  0.69\n"
          ]
        }
      ]
    },
    {
      "cell_type": "markdown",
      "source": [
        "The value of K that gave me the best accuracy was k=7 with the Euclidean distance. The accuracy was 74%."
      ],
      "metadata": {
        "id": "iL6Q-DRvihmO"
      }
    },
    {
      "cell_type": "markdown",
      "metadata": {
        "id": "HD2PnNuTQ175"
      },
      "source": [
        "Grade Basis:\n",
        "\n",
        "80% for correct answers (and yes, there are possibilities that multiple answers are correct-- especially for cases of ties).\n",
        "\n",
        "20% : Documentation and easily readable code\n",
        "\n",
        "Please publish your final Notebook in your Github directory.\n",
        "\n",
        "The homework assignment is due by November 27th at 11:59 PM\n"
      ]
    }
  ]
}